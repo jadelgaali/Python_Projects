{
 "cells": [
  {
   "cell_type": "code",
   "execution_count": 5,
   "metadata": {},
   "outputs": [],
   "source": [
    "import numpy as np"
   ]
  },
  {
   "cell_type": "code",
   "execution_count": 16,
   "metadata": {},
   "outputs": [
    {
     "data": {
      "text/plain": [
       "array([[1, 2, 3],\n",
       "       [4, 5, 6],\n",
       "       [7, 8, 9]])"
      ]
     },
     "execution_count": 16,
     "metadata": {},
     "output_type": "execute_result"
    }
   ],
   "source": [
    "# 1 Create a numpy array from 3 nested Py lists\n",
    "\n",
    "a = np.array([[1,2,3],[4,5,6],[7,8,9]])\n",
    "a"
   ]
  },
  {
   "cell_type": "code",
   "execution_count": 95,
   "metadata": {},
   "outputs": [
    {
     "name": "stdout",
     "output_type": "stream",
     "text": [
      "The shape of the array is: (3, 3)\n"
     ]
    }
   ],
   "source": [
    "# 1 then print its shape\n",
    "\n",
    "shape = a.shape\n",
    "\n",
    "print(\"The shape of the array is:\",shape)"
   ]
  },
  {
   "cell_type": "code",
   "execution_count": 94,
   "metadata": {},
   "outputs": [
    {
     "name": "stdout",
     "output_type": "stream",
     "text": [
      "The diagonal elements are: [1 5 9]\n"
     ]
    }
   ],
   "source": [
    "# 1 and access the 3 diagonal elements\n",
    "\n",
    "diag = a.diagonal()\n",
    "\n",
    "print(\"The diagonal elements are:\", diag)"
   ]
  },
  {
   "cell_type": "code",
   "execution_count": 18,
   "metadata": {},
   "outputs": [
    {
     "data": {
      "text/plain": [
       "array([[0., 0., 0., 0., 0.],\n",
       "       [0., 0., 0., 0., 0.],\n",
       "       [0., 0., 0., 0., 0.]])"
      ]
     },
     "execution_count": 18,
     "metadata": {},
     "output_type": "execute_result"
    }
   ],
   "source": [
    "# 2 Create a numpy array with 3 rows and 5 columns filled with zeros\n",
    "\n",
    "np.zeros((3,5))"
   ]
  },
  {
   "cell_type": "code",
   "execution_count": 20,
   "metadata": {},
   "outputs": [
    {
     "data": {
      "text/plain": [
       "array([[1., 1., 1., 1., 1., 1., 1., 1.],\n",
       "       [1., 1., 1., 1., 1., 1., 1., 1.],\n",
       "       [1., 1., 1., 1., 1., 1., 1., 1.],\n",
       "       [1., 1., 1., 1., 1., 1., 1., 1.],\n",
       "       [1., 1., 1., 1., 1., 1., 1., 1.]])"
      ]
     },
     "execution_count": 20,
     "metadata": {},
     "output_type": "execute_result"
    }
   ],
   "source": [
    "# 3 Create a numpy array with 8 columns and 5 rows filled with ones\n",
    "\n",
    "np.ones((5,8))"
   ]
  },
  {
   "cell_type": "code",
   "execution_count": 101,
   "metadata": {},
   "outputs": [
    {
     "data": {
      "text/plain": [
       "array([[1, 0, 0, 0, 0, 0, 0],\n",
       "       [0, 1, 0, 0, 0, 0, 0],\n",
       "       [0, 0, 1, 0, 0, 0, 0],\n",
       "       [0, 0, 0, 1, 0, 0, 0],\n",
       "       [0, 0, 0, 0, 1, 0, 0],\n",
       "       [0, 0, 0, 0, 0, 1, 0],\n",
       "       [0, 0, 0, 0, 0, 0, 1]])"
      ]
     },
     "execution_count": 101,
     "metadata": {},
     "output_type": "execute_result"
    }
   ],
   "source": [
    "# 4 Create a 7x7 identity matrix\n",
    "\n",
    "np.eye(7,7, dtype=int)"
   ]
  },
  {
   "cell_type": "code",
   "execution_count": 108,
   "metadata": {},
   "outputs": [
    {
     "data": {
      "text/plain": [
       "array([[2.9, 2.9, 2.9, 2.9, 2.9, 2.9, 2.9],\n",
       "       [2.9, 2.9, 2.9, 2.9, 2.9, 2.9, 2.9],\n",
       "       [2.9, 2.9, 2.9, 2.9, 2.9, 2.9, 2.9]])"
      ]
     },
     "execution_count": 108,
     "metadata": {},
     "output_type": "execute_result"
    }
   ],
   "source": [
    "# 5 Create a constant array of size (3 x 7) filled with floats\n",
    "\n",
    "ca = np.full((3,7), 2.9, dtype=float)\n",
    "ca"
   ]
  },
  {
   "cell_type": "code",
   "execution_count": 36,
   "metadata": {},
   "outputs": [
    {
     "data": {
      "text/plain": [
       "array([[0.10245098, 0.99441511, 0.92912122],\n",
       "       [0.93192204, 0.25496534, 0.44024087],\n",
       "       [0.88928896, 0.68522975, 0.61670198],\n",
       "       [0.81765855, 0.02299416, 0.96328577],\n",
       "       [0.79652573, 0.77808105, 0.38160693],\n",
       "       [0.01659936, 0.59918226, 0.97603575],\n",
       "       [0.33230566, 0.04220391, 0.79584499],\n",
       "       [0.76796011, 0.47667155, 0.85590121]])"
      ]
     },
     "execution_count": 36,
     "metadata": {},
     "output_type": "execute_result"
    }
   ],
   "source": [
    "# 6 Create an array of size (8 x 3) filled with random values\n",
    "\n",
    "np.random.rand(8,3)"
   ]
  },
  {
   "cell_type": "code",
   "execution_count": 45,
   "metadata": {},
   "outputs": [
    {
     "name": "stdout",
     "output_type": "stream",
     "text": [
      "[[ 0  1  2  3]\n",
      " [ 4  5  6  7]\n",
      " [ 8  9 10 11]\n",
      " [12 13 14 15]\n",
      " [16 17 18 19]\n",
      " [20 21 22 23]\n",
      " [24 25 26 27]]\n"
     ]
    }
   ],
   "source": [
    "# 7 Create an array of rank 2 with shape (7, 4)\n",
    "\n",
    "from numpy import *\n",
    "\n",
    "y = arange(28).reshape(7,4)\n",
    "print(y)"
   ]
  },
  {
   "cell_type": "code",
   "execution_count": 89,
   "metadata": {},
   "outputs": [
    {
     "name": "stdout",
     "output_type": "stream",
     "text": [
      "[[ 3  2]\n",
      " [10  4]]\n",
      "[[-1  0]\n",
      " [-4 -2]]\n",
      "[[ 2  1]\n",
      " [21  3]]\n",
      "[[0.5        1.        ]\n",
      " [0.42857143 0.33333333]]\n"
     ]
    }
   ],
   "source": [
    "# 8 Create 2 numpy arrays and do arithmetic operations on them\n",
    "\n",
    "A = array( [[1,1],\n",
    "             [3,1]] )\n",
    "B = array( [[2,1],\n",
    "             [7,3]] )\n",
    "\n",
    "print(A+B) #sum\n",
    "\n",
    "print(A-B) #difference\n",
    "\n",
    "print(A*B) #multiplication\n",
    "\n",
    "print(A/B) #division"
   ]
  },
  {
   "cell_type": "code",
   "execution_count": null,
   "metadata": {},
   "outputs": [],
   "source": []
  },
  {
   "cell_type": "code",
   "execution_count": null,
   "metadata": {},
   "outputs": [],
   "source": []
  },
  {
   "cell_type": "code",
   "execution_count": null,
   "metadata": {},
   "outputs": [],
   "source": []
  },
  {
   "cell_type": "code",
   "execution_count": null,
   "metadata": {},
   "outputs": [],
   "source": []
  },
  {
   "cell_type": "code",
   "execution_count": 90,
   "metadata": {},
   "outputs": [
    {
     "data": {
      "text/plain": [
       "array([[51, 16],\n",
       "       [39, 23]])"
      ]
     },
     "execution_count": 90,
     "metadata": {},
     "output_type": "execute_result"
    }
   ],
   "source": [
    "# 9 Create 2 numpy arrays and do \"dot\" multiplication of them\n",
    "\n",
    "p = array([[1,7],[2,5]])\n",
    "q = array([[2,9],[7,1]])\n",
    "dot(p,q)"
   ]
  },
  {
   "cell_type": "code",
   "execution_count": 116,
   "metadata": {},
   "outputs": [
    {
     "name": "stdout",
     "output_type": "stream",
     "text": [
      "The vector v is:\n",
      " [0 1 2]\n",
      "\n",
      "The matrix x is:\n",
      " [[ 1  2  3]\n",
      " [ 4  5  6]\n",
      " [ 7  8  9]\n",
      " [10 11 12]]\n",
      "\n",
      "The resultant matrix y is:\n",
      " [[ 1  3  5]\n",
      " [ 4  6  8]\n",
      " [ 7  9 11]\n",
      " [10 12 14]]\n"
     ]
    }
   ],
   "source": [
    "# 10 Show a Broadcasting example: add the vector v to each row of the matrix x, then store the result in the matrix y\n",
    "\n",
    "v = np.array([0, 1, 2])\n",
    "x = np.array([[1,2,3], [4,5,6], [7,8,9], [10, 11, 12]])\n",
    "y = np.empty_like(x)\n",
    "\n",
    "y=x+v\n",
    "\n",
    "print(\"The vector v is:\\n\",v)\n",
    "print(\"\\nThe matrix x is:\\n\",x)\n",
    "print(\"\\nThe resultant matrix y is:\\n\",y)"
   ]
  }
 ],
 "metadata": {
  "kernelspec": {
   "display_name": "Python 3",
   "language": "python",
   "name": "python3"
  },
  "language_info": {
   "codemirror_mode": {
    "name": "ipython",
    "version": 3
   },
   "file_extension": ".py",
   "mimetype": "text/x-python",
   "name": "python",
   "nbconvert_exporter": "python",
   "pygments_lexer": "ipython3",
   "version": "3.7.0"
  }
 },
 "nbformat": 4,
 "nbformat_minor": 2
}
