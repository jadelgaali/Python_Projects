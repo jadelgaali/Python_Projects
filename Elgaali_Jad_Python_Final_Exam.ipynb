{
 "cells": [
  {
   "cell_type": "markdown",
   "metadata": {},
   "source": [
    "# Final Exam - December 6, 2018"
   ]
  },
  {
   "cell_type": "markdown",
   "metadata": {},
   "source": [
    "# Set 1"
   ]
  },
  {
   "cell_type": "markdown",
   "metadata": {},
   "source": [
    "## A. Dictionaries"
   ]
  },
  {
   "cell_type": "markdown",
   "metadata": {},
   "source": [
    "#### 1. Create two dictionaries: PersonalInfo with 7 key-value pairs & WorkInfo with 4 key-value pairs\n",
    "Ex: First name - John, Last name - Doe, Age - 25, Address - 111 North Street, Phone - (312) 235-5584, etc... and \n",
    "\n",
    "Work address - 123 South street, Phone - (630) 787-4453, etc..."
   ]
  },
  {
   "cell_type": "code",
   "execution_count": 102,
   "metadata": {},
   "outputs": [],
   "source": [
    "PersonalInfo = {\"First Name\" : 'Jad',\n",
    "                \"Last Name\" : 'Elgaali',\n",
    "                \"Phone #\" : '(773) 123-4567',\n",
    "                \"email\" : 'jelgaali@gmail.com',\n",
    "                \"address\" : '100 E 32nd Street',\n",
    "                \"Apt #\" : '2201',\n",
    "                \"Marital Status\" : 'Single'}\n",
    "\n",
    "WorkInfo = {\"Employer\" : 'University of Chicago',\n",
    "            \"Address\" : '450 Cityfront Plaza Dr',\n",
    "            \"Work email\" : 'jelgaali@uchicago.edu',\n",
    "            \"Department\" : 'Biomedical informatics'}"
   ]
  },
  {
   "cell_type": "markdown",
   "metadata": {},
   "source": [
    "#### 2. Add a new pair key-value to the dictionary PersonalInfo and remove a key-value pair from WorkInfo. Print results after the 2 operations"
   ]
  },
  {
   "cell_type": "code",
   "execution_count": 107,
   "metadata": {},
   "outputs": [
    {
     "name": "stdout",
     "output_type": "stream",
     "text": [
      "The personal info update: {'First Name': 'Jad', 'Last Name': 'Elgaali', 'Phone #': '(773) 123-4567', 'email': 'jelgaali@gmail.com', 'address': '100 E 32nd Street', 'Apt #': '2201', 'Marital Status': 'Single', 'Age': '23', 'Employment': 'Student'}\n",
      "The work info updated: {'Address': '450 Cityfront Plaza Dr', 'Work email': 'jelgaali@uchicago.edu', 'Department': 'Biomedical informatics', 'Work Status': 'Part Time'}\n"
     ]
    }
   ],
   "source": [
    "PersonalInfo = {\"First Name\" : 'Jad',\n",
    "                \"Last Name\" : 'Elgaali',\n",
    "                \"Phone #\" : '(773) 123-4567',\n",
    "                \"email\" : 'jelgaali@gmail.com',\n",
    "                \"address\" : '100 E 32nd Street',\n",
    "                \"Apt #\" : '2201',\n",
    "                \"Marital Status\" : 'Single'}\n",
    "\n",
    "WorkInfo = {\"Employer\" : 'University of Chicago',\n",
    "            \"Address\" : '450 Cityfront Plaza Dr',\n",
    "            \"Work email\" : 'jelgaali@uchicago.edu',\n",
    "            \"Department\" : 'Biomedical informatics'}\n",
    "\n",
    "\n",
    "\n",
    "PersonalInfo.update({\"Age\":'23',\"Employment\":'Student'})\n",
    "\n",
    "del WorkInfo[\"Employer\"]\n",
    "\n",
    "WorkInfo.update({\"Work Status\" : 'Part Time'})\n",
    "\n",
    "print(\"The personal info update:\", PersonalInfo)\n",
    "print(\"The work info updated:\",WorkInfo)"
   ]
  },
  {
   "cell_type": "markdown",
   "metadata": {},
   "source": [
    "#### 3. Concatenate the 2 dictionaries and print all 3 dictionaries. Iterate through the compound dictionary by printing every key-value pair, each on one line"
   ]
  },
  {
   "cell_type": "code",
   "execution_count": 108,
   "metadata": {},
   "outputs": [
    {
     "name": "stdout",
     "output_type": "stream",
     "text": [
      "The new combined info dictionary is:\n",
      " {'First Name': 'Jad', 'Last Name': 'Elgaali', 'Phone #': '(773) 123-4567', 'email': 'jelgaali@gmail.com', 'address': '100 E 32nd Street', 'Apt #': '2201', 'Marital Status': 'Single', 'Age': '23', 'Employment': 'Student', 'Address': '450 Cityfront Plaza Dr', 'Work email': 'jelgaali@uchicago.edu', 'Department': 'Biomedical informatics', 'Work Status': 'Part Time'}\n"
     ]
    }
   ],
   "source": [
    "CombinedInfo = {}\n",
    "\n",
    "for dic in (PersonalInfo, WorkInfo):\n",
    "    CombinedInfo.update(dic)\n",
    "\n",
    "print(\"The new combined info dictionary is:\\n\",CombinedInfo)"
   ]
  },
  {
   "cell_type": "markdown",
   "metadata": {},
   "source": [
    "#### 4. Sort the compound dictionary by keys in descending order and print on record per line"
   ]
  },
  {
   "cell_type": "code",
   "execution_count": 109,
   "metadata": {},
   "outputs": [
    {
     "name": "stdout",
     "output_type": "stream",
     "text": [
      "['email', 'address', 'Work email', 'Work Status', 'Phone #', 'Marital Status', 'Last Name', 'First Name', 'Employment', 'Department', 'Apt #', 'Age', 'Address']\n"
     ]
    }
   ],
   "source": [
    "CombinedInfo\n",
    "newList = print(sorted(CombinedInfo)[::-1])"
   ]
  },
  {
   "cell_type": "markdown",
   "metadata": {},
   "source": [
    "## B. numpy"
   ]
  },
  {
   "cell_type": "markdown",
   "metadata": {},
   "source": [
    "#### 5. Create and print a numpy 1-d array containing 25 decimal numbers that starts at 1 and end at 7. Calculate and print the min, max and avarage value of this 1-d array"
   ]
  },
  {
   "cell_type": "code",
   "execution_count": 88,
   "metadata": {},
   "outputs": [
    {
     "data": {
      "text/plain": [
       "array([1. , 2. , 3. , 4. , 5. , 6. , 7. , 1.1, 1.2, 1.3, 2.1, 1.1, 1.1,\n",
       "       1.1, 1.1, 1.1, 1.1, 1.1, 1.1, 1.1, 1.1, 1.1, 1.1, 1.1, 1.1])"
      ]
     },
     "execution_count": 88,
     "metadata": {},
     "output_type": "execute_result"
    }
   ],
   "source": [
    "import numpy as np\n",
    "a = np.array([1,2,3,4,5,6,7,1.1,1.2,1.3,2.1,1.1,1.1,1.1,1.1,1.1,1.1,1.1,1.1,1.1,1.1,1.1,1.1,1.1,1.1,], dtype = float)\n",
    "a\n",
    "  "
   ]
  },
  {
   "cell_type": "code",
   "execution_count": 85,
   "metadata": {},
   "outputs": [
    {
     "data": {
      "text/plain": [
       "1.0"
      ]
     },
     "execution_count": 85,
     "metadata": {},
     "output_type": "execute_result"
    }
   ],
   "source": [
    "a.min()"
   ]
  },
  {
   "cell_type": "code",
   "execution_count": 86,
   "metadata": {},
   "outputs": [
    {
     "data": {
      "text/plain": [
       "7.0"
      ]
     },
     "execution_count": 86,
     "metadata": {},
     "output_type": "execute_result"
    }
   ],
   "source": [
    "a.max()"
   ]
  },
  {
   "cell_type": "code",
   "execution_count": 87,
   "metadata": {},
   "outputs": [
    {
     "data": {
      "text/plain": [
       "1.964"
      ]
     },
     "execution_count": 87,
     "metadata": {},
     "output_type": "execute_result"
    }
   ],
   "source": [
    "a.mean()"
   ]
  },
  {
   "cell_type": "markdown",
   "metadata": {},
   "source": [
    "#### 6. Create and print a 2 dimensional array A that has 16 rows and 4 columns composed of consecutive integers. Change the shape of the array A to a new array B that has 8 rows and 8 columns and print it out"
   ]
  },
  {
   "cell_type": "code",
   "execution_count": 23,
   "metadata": {},
   "outputs": [
    {
     "data": {
      "text/plain": [
       "array([[ 0,  1,  2,  3],\n",
       "       [ 4,  5,  6,  7],\n",
       "       [ 8,  9, 10, 11],\n",
       "       [12, 13, 14, 15],\n",
       "       [16, 17, 18, 19],\n",
       "       [20, 21, 22, 23],\n",
       "       [24, 25, 26, 27],\n",
       "       [28, 29, 30, 31],\n",
       "       [32, 33, 34, 35],\n",
       "       [36, 37, 38, 39],\n",
       "       [40, 41, 42, 43],\n",
       "       [44, 45, 46, 47],\n",
       "       [48, 49, 50, 51],\n",
       "       [52, 53, 54, 55],\n",
       "       [56, 57, 58, 59],\n",
       "       [60, 61, 62, 63]])"
      ]
     },
     "execution_count": 23,
     "metadata": {},
     "output_type": "execute_result"
    }
   ],
   "source": [
    "from numpy  import *\n",
    "a = np.arange(64).reshape(16, 4)\n",
    "a"
   ]
  },
  {
   "cell_type": "code",
   "execution_count": 24,
   "metadata": {},
   "outputs": [
    {
     "data": {
      "text/plain": [
       "array([[ 0,  1,  2,  3,  4,  5,  6,  7],\n",
       "       [ 8,  9, 10, 11, 12, 13, 14, 15],\n",
       "       [16, 17, 18, 19, 20, 21, 22, 23],\n",
       "       [24, 25, 26, 27, 28, 29, 30, 31],\n",
       "       [32, 33, 34, 35, 36, 37, 38, 39],\n",
       "       [40, 41, 42, 43, 44, 45, 46, 47],\n",
       "       [48, 49, 50, 51, 52, 53, 54, 55],\n",
       "       [56, 57, 58, 59, 60, 61, 62, 63]])"
      ]
     },
     "execution_count": 24,
     "metadata": {},
     "output_type": "execute_result"
    }
   ],
   "source": [
    "#part 6b\n",
    "\n",
    "b = arange(64).reshape(8,8)\n",
    "b"
   ]
  },
  {
   "cell_type": "markdown",
   "metadata": {},
   "source": [
    "#### 7. Add \"elementwise\" the numpy array obtained above (B) with the appropriate size identity array. Print the results"
   ]
  },
  {
   "cell_type": "code",
   "execution_count": 32,
   "metadata": {},
   "outputs": [
    {
     "name": "stdout",
     "output_type": "stream",
     "text": [
      "[[ 1  1  2  3  4  5  6  7]\n",
      " [ 8 10 10 11 12 13 14 15]\n",
      " [16 17 19 19 20 21 22 23]\n",
      " [24 25 26 28 28 29 30 31]\n",
      " [32 33 34 35 37 37 38 39]\n",
      " [40 41 42 43 44 46 46 47]\n",
      " [48 49 50 51 52 53 55 55]\n",
      " [56 57 58 59 60 61 62 64]]\n"
     ]
    }
   ],
   "source": [
    "c = np.eye(8,8, dtype=int)\n",
    "d = b+c\n",
    "print(d)"
   ]
  },
  {
   "cell_type": "markdown",
   "metadata": {},
   "source": [
    "#### 8. Multiply \"dot-style\" the numpy array obtained from summation with the array B and print the results"
   ]
  },
  {
   "cell_type": "code",
   "execution_count": 35,
   "metadata": {},
   "outputs": [
    {
     "data": {
      "text/plain": [
       "array([[ 1120,  1149,  1178,  1207,  1236,  1265,  1294,  1323],\n",
       "       [ 2920,  3013,  3106,  3199,  3292,  3385,  3478,  3571],\n",
       "       [ 4720,  4877,  5034,  5191,  5348,  5505,  5662,  5819],\n",
       "       [ 6520,  6741,  6962,  7183,  7404,  7625,  7846,  8067],\n",
       "       [ 8320,  8605,  8890,  9175,  9460,  9745, 10030, 10315],\n",
       "       [10120, 10469, 10818, 11167, 11516, 11865, 12214, 12563],\n",
       "       [11920, 12333, 12746, 13159, 13572, 13985, 14398, 14811],\n",
       "       [13720, 14197, 14674, 15151, 15628, 16105, 16582, 17059]])"
      ]
     },
     "execution_count": 35,
     "metadata": {},
     "output_type": "execute_result"
    }
   ],
   "source": [
    "dot(b,d)"
   ]
  },
  {
   "cell_type": "markdown",
   "metadata": {},
   "source": [
    "## C. pandas"
   ]
  },
  {
   "cell_type": "markdown",
   "metadata": {},
   "source": [
    "#### 9. Load data from the File-input.csv file into a pandas dataframe and print it to the Jupyter console"
   ]
  },
  {
   "cell_type": "code",
   "execution_count": 36,
   "metadata": {},
   "outputs": [],
   "source": [
    "import pandas as pd\n",
    "import numpy as np\n",
    "import matplotlib.pyplot as plt"
   ]
  },
  {
   "cell_type": "code",
   "execution_count": 37,
   "metadata": {},
   "outputs": [
    {
     "name": "stdout",
     "output_type": "stream",
     "text": [
      "   First name Last name  Age           Phone   Temp Height  Weight  \\\n",
      "0       David      Kain   78  (312) 524-6685   99.9  5'11\"     178   \n",
      "1       Kevin    O'Hara   56  (312) 897-3358  102.5   6'2\"     185   \n",
      "2        Kara     Smith   37  (312) 895-2258   97.2   6'3\"     215   \n",
      "3       Blair     Steel   67  (202) 323-5687   98.9  5'11'     168   \n",
      "4       Marie   Collins   54  (312) 564-2552  101.0   6'0\"     158   \n",
      "5     Michael    Jordan   55  (312) 532-9985   99.9   6'5\"     192   \n",
      "6       Peter    Arnold   23  (773) 528-8854   97.2   5'8\"     165   \n",
      "7        John  McKenzie   43  (312) 326-5541   98.2   6'2\"     195   \n",
      "8      Joanna     Jones   25  (773) 954-8854  101.2   5'9\"     145   \n",
      "9     MaryLou   Andrews   34  (312) 253-2672   98.0   5'6\"     154   \n",
      "10        Jon   Clinton   85  (312) 321-9922  102.2   5'5\"     178   \n",
      "11       Andy      Bush   44   (773)777-8833   98.5   5'8\"     165   \n",
      "\n",
      "             City  \n",
      "0         Chicago  \n",
      "1        Winnetka  \n",
      "2        Oakbrook  \n",
      "3              DC  \n",
      "4         Chicago  \n",
      "5         Chicago  \n",
      "6        Oakbrook  \n",
      "7         Chicago  \n",
      "8   Downers Grove  \n",
      "9        Winnetka  \n",
      "10       Oakbrook  \n",
      "11        Chicago  \n"
     ]
    }
   ],
   "source": [
    "import operator \n",
    "dataFrame = pd.read_csv(\"File-input.csv\")\n",
    "print(dataFrame)"
   ]
  },
  {
   "cell_type": "markdown",
   "metadata": {},
   "source": [
    "#### 10. Convert the dataframe into a list of Dictionaries using the .to_dict method and then save all the records from the pandas dataframe as different dictionaries. Orient them as 'records' and print them on different lines"
   ]
  },
  {
   "cell_type": "code",
   "execution_count": 38,
   "metadata": {},
   "outputs": [
    {
     "name": "stdout",
     "output_type": "stream",
     "text": [
      "{'First name': 'David', 'Last name': 'Kain', 'Age': 78, 'Phone': '(312) 524-6685', 'Temp': 99.9, 'Height': '5\\'11\"', 'Weight': 178, 'City': 'Chicago'}\n",
      "{'First name': 'Kevin', 'Last name': \"O'Hara\", 'Age': 56, 'Phone': '(312) 897-3358', 'Temp': 102.5, 'Height': '6\\'2\"', 'Weight': 185, 'City': 'Winnetka'}\n",
      "{'First name': 'Kara', 'Last name': 'Smith', 'Age': 37, 'Phone': '(312) 895-2258', 'Temp': 97.2, 'Height': '6\\'3\"', 'Weight': 215, 'City': 'Oakbrook'}\n",
      "{'First name': 'Blair', 'Last name': 'Steel', 'Age': 67, 'Phone': '(202) 323-5687', 'Temp': 98.9, 'Height': \"5'11'\", 'Weight': 168, 'City': 'DC'}\n",
      "{'First name': 'Marie', 'Last name': 'Collins', 'Age': 54, 'Phone': '(312) 564-2552', 'Temp': 101.0, 'Height': '6\\'0\"', 'Weight': 158, 'City': 'Chicago'}\n",
      "{'First name': 'Michael', 'Last name': 'Jordan', 'Age': 55, 'Phone': '(312) 532-9985', 'Temp': 99.9, 'Height': '6\\'5\"', 'Weight': 192, 'City': 'Chicago'}\n",
      "{'First name': 'Peter', 'Last name': 'Arnold', 'Age': 23, 'Phone': '(773) 528-8854', 'Temp': 97.2, 'Height': '5\\'8\"', 'Weight': 165, 'City': 'Oakbrook'}\n",
      "{'First name': 'John', 'Last name': 'McKenzie', 'Age': 43, 'Phone': '(312) 326-5541', 'Temp': 98.2, 'Height': '6\\'2\"', 'Weight': 195, 'City': 'Chicago'}\n",
      "{'First name': 'Joanna', 'Last name': 'Jones', 'Age': 25, 'Phone': '(773) 954-8854', 'Temp': 101.2, 'Height': '5\\'9\"', 'Weight': 145, 'City': 'Downers Grove'}\n",
      "{'First name': 'MaryLou', 'Last name': 'Andrews', 'Age': 34, 'Phone': '(312) 253-2672', 'Temp': 98.0, 'Height': '5\\'6\"', 'Weight': 154, 'City': 'Winnetka'}\n",
      "{'First name': 'Jon', 'Last name': 'Clinton', 'Age': 85, 'Phone': '(312) 321-9922', 'Temp': 102.2, 'Height': '5\\'5\"', 'Weight': 178, 'City': 'Oakbrook'}\n",
      "{'First name': 'Andy', 'Last name': 'Bush', 'Age': 44, 'Phone': '(773)777-8833', 'Temp': 98.5, 'Height': '5\\'8\"', 'Weight': 165, 'City': 'Chicago'}\n"
     ]
    }
   ],
   "source": [
    "result = dataFrame.to_dict(orient='records')\n",
    "\n",
    "for row in result:\n",
    "    dict = row.copy()\n",
    "    print(dict)"
   ]
  },
  {
   "cell_type": "markdown",
   "metadata": {},
   "source": [
    "#### 11. Access and print the 2nd dictionary as 2nd record of the pandas dataframe"
   ]
  },
  {
   "cell_type": "code",
   "execution_count": 39,
   "metadata": {},
   "outputs": [
    {
     "name": "stdout",
     "output_type": "stream",
     "text": [
      "{'First name': 'Kevin', 'Last name': \"O'Hara\", 'Age': 56, 'Phone': '(312) 897-3358', 'Temp': 102.5, 'Height': '6\\'2\"', 'Weight': 185, 'City': 'Winnetka'}\n"
     ]
    }
   ],
   "source": [
    "n = 1 # This is the fourth index, or the third element\n",
    "print(result[n])"
   ]
  },
  {
   "cell_type": "markdown",
   "metadata": {},
   "source": [
    "#### 12. List all the keys of this dictionary, one per line, and then create a list with the them called “headers”"
   ]
  },
  {
   "cell_type": "code",
   "execution_count": 40,
   "metadata": {},
   "outputs": [
    {
     "name": "stdout",
     "output_type": "stream",
     "text": [
      "First name\n",
      "Last name\n",
      "Age\n",
      "Phone\n",
      "Temp\n",
      "Height\n",
      "Weight\n",
      "City\n",
      "\n",
      "['First name', 'Last name', 'Age', 'Phone', 'Temp', 'Height', 'Weight', 'City']\n"
     ]
    }
   ],
   "source": [
    "dict = result[n]\n",
    "\n",
    "for key in dict.keys():\n",
    "   print(key)\n",
    "print()\n",
    "\n",
    "headers = list(dict.keys())\n",
    "print(headers)"
   ]
  },
  {
   "cell_type": "markdown",
   "metadata": {},
   "source": [
    "#### 13. Select and print the 4th element in the list"
   ]
  },
  {
   "cell_type": "code",
   "execution_count": 41,
   "metadata": {},
   "outputs": [
    {
     "data": {
      "text/plain": [
       "'Phone'"
      ]
     },
     "execution_count": 41,
     "metadata": {},
     "output_type": "execute_result"
    }
   ],
   "source": [
    "headers[3]"
   ]
  },
  {
   "cell_type": "markdown",
   "metadata": {},
   "source": [
    "#### 14. Modify the values for \"Temp\" and \"Weight\" keys for this specific record"
   ]
  },
  {
   "cell_type": "code",
   "execution_count": 43,
   "metadata": {},
   "outputs": [
    {
     "name": "stdout",
     "output_type": "stream",
     "text": [
      "['Kevin', \"O'Hara\", 56, '(312) 897-3358', 99, '6\\'2\"', 173, 'Winnetka']\n"
     ]
    }
   ],
   "source": [
    "dict[\"Temp\"] = 99\n",
    "dict[\"Weight\"] = 173\n",
    "print(list(dict.values()))"
   ]
  },
  {
   "cell_type": "markdown",
   "metadata": {},
   "source": [
    "#### 15. Find the \"First name\" that has the Min value of \"Weight\" from the dataframe"
   ]
  },
  {
   "cell_type": "code",
   "execution_count": 59,
   "metadata": {},
   "outputs": [
    {
     "name": "stdout",
     "output_type": "stream",
     "text": [
      "('Joanna', 145)\n"
     ]
    }
   ],
   "source": [
    "# Reduce size of dataframe to just 2 columns of interest\n",
    "df = dataFrame[['First name','Weight']] # index names are case sensitive \n",
    "result = df.to_dict(orient='records')\n",
    "\n",
    "# Find the minvalue and create a Tuple\n",
    "min = 1000000\n",
    "solution = ((),)\n",
    "for row in result:\n",
    "    weight = row['Weight']\n",
    "    firstname = row['First name']\n",
    "    if weight < min:\n",
    "        min = weight\n",
    "        solution = firstname, weight\n",
    "print(solution)"
   ]
  }
 ],
 "metadata": {
  "kernelspec": {
   "display_name": "Python 3",
   "language": "python",
   "name": "python3"
  },
  "language_info": {
   "codemirror_mode": {
    "name": "ipython",
    "version": 3
   },
   "file_extension": ".py",
   "mimetype": "text/x-python",
   "name": "python",
   "nbconvert_exporter": "python",
   "pygments_lexer": "ipython3",
   "version": "3.7.0"
  }
 },
 "nbformat": 4,
 "nbformat_minor": 2
}
