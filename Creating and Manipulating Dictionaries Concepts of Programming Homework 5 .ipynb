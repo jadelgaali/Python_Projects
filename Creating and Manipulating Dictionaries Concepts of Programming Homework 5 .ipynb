{
 "cells": [
  {
   "cell_type": "code",
   "execution_count": 1,
   "metadata": {},
   "outputs": [
    {
     "name": "stdout",
     "output_type": "stream",
     "text": [
      "Personal Information:\n",
      " {'First Name': 'Jad', 'Last Name': 'Elgaali', 'Phone #': '(773) 123-4567', 'email': 'jelgaali@gmail.com', 'address': '100 E 32nd Street', 'Apt #': '2201', 'Marital Status': 'Single'}\n",
      "\n",
      "Work Information:\n",
      " {'Employer': 'University of Chicago', 'Address': '450 Cityfront Plaza Dr', 'Work email': 'jelgaali@uchicago.edu', 'Department': 'Biomedical informatics'}\n",
      "\n",
      "The combined info dictionary is:\n",
      " {'First Name': 'Jad', 'Last Name': 'Elgaali', 'Phone #': '(773) 123-4567', 'email': 'jelgaali@gmail.com', 'address': '100 E 32nd Street', 'Apt #': '2201', 'Marital Status': 'Single', 'Employer': 'University of Chicago', 'Address': '450 Cityfront Plaza Dr', 'Work email': 'jelgaali@uchicago.edu', 'Department': 'Biomedical informatics'}\n"
     ]
    }
   ],
   "source": [
    "# A\n",
    "\n",
    "PersonalInfo = {\"First Name\" : 'Jad',\n",
    "                \"Last Name\" : 'Elgaali',\n",
    "                \"Phone #\" : '(773) 123-4567',\n",
    "                \"email\" : 'jelgaali@gmail.com',\n",
    "                \"address\" : '100 E 32nd Street',\n",
    "                \"Apt #\" : '2201',\n",
    "                \"Marital Status\" : 'Single'}\n",
    "\n",
    "WorkInfo = {\"Employer\" : 'University of Chicago',\n",
    "            \"Address\" : '450 Cityfront Plaza Dr',\n",
    "            \"Work email\" : 'jelgaali@uchicago.edu',\n",
    "            \"Department\" : 'Biomedical informatics'}\n",
    "\n",
    "CombinedInfo = {}\n",
    "\n",
    "for dic in (PersonalInfo, WorkInfo):\n",
    "    CombinedInfo.update(dic)\n",
    "\n",
    "print(\"Personal Information:\\n\",PersonalInfo)\n",
    "\n",
    "print(\"\\nWork Information:\\n\",WorkInfo)\n",
    "\n",
    "print(\"\\nThe combined info dictionary is:\\n\",CombinedInfo)"
   ]
  },
  {
   "cell_type": "raw",
   "metadata": {},
   "source": []
  },
  {
   "cell_type": "code",
   "execution_count": 8,
   "metadata": {},
   "outputs": [
    {
     "name": "stdout",
     "output_type": "stream",
     "text": [
      "The new combined info dictionary is:\n",
      " {'First Name': 'Jad', 'Last Name': 'Elgaali', 'Phone #': '(773) 123-4567', 'email': 'jelgaali@gmail.com', 'address': '100 E 32nd Street', 'Apt #': '2201', 'Marital Status': 'Single', 'Age': '23', 'Employment': 'Student', 'Address': '450 Cityfront Plaza Dr', 'Work email': 'jelgaali@uchicago.edu', 'Department': 'Biomedical informatics', 'Work Status': 'Part Time'}\n"
     ]
    }
   ],
   "source": [
    "# B\n",
    "\n",
    "PersonalInfo = {\"First Name\" : 'Jad',\n",
    "                \"Last Name\" : 'Elgaali',\n",
    "                \"Phone #\" : '(773) 123-4567',\n",
    "                \"email\" : 'jelgaali@gmail.com',\n",
    "                \"address\" : '100 E 32nd Street',\n",
    "                \"Apt #\" : '2201',\n",
    "                \"Marital Status\" : 'Single'}\n",
    "\n",
    "WorkInfo = {\"Employer\" : 'University of Chicago',\n",
    "            \"Address\" : '450 Cityfront Plaza Dr',\n",
    "            \"Work email\" : 'jelgaali@uchicago.edu',\n",
    "            \"Department\" : 'Biomedical informatics'}\n",
    "\n",
    "\n",
    "\n",
    "PersonalInfo.update({\"Age\":'23',\"Employment\":'Student'})\n",
    "\n",
    "del WorkInfo[\"Employer\"]\n",
    "\n",
    "WorkInfo.update({\"Work Status\" : 'Part Time'})\n",
    "\n",
    "CombinedInfo = {}\n",
    "\n",
    "for dic in (PersonalInfo, WorkInfo):\n",
    "    CombinedInfo.update(dic)\n",
    "\n",
    "print(\"The new combined info dictionary is:\\n\",CombinedInfo)"
   ]
  }
 ],
 "metadata": {
  "kernelspec": {
   "display_name": "Python 3",
   "language": "python",
   "name": "python3"
  },
  "language_info": {
   "codemirror_mode": {
    "name": "ipython",
    "version": 3
   },
   "file_extension": ".py",
   "mimetype": "text/x-python",
   "name": "python",
   "nbconvert_exporter": "python",
   "pygments_lexer": "ipython3",
   "version": "3.7.0"
  }
 },
 "nbformat": 4,
 "nbformat_minor": 2
}
